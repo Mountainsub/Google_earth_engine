{
  "nbformat": 4,
  "nbformat_minor": 0,
  "metadata": {
    "colab": {
      "name": "Untitled14.ipynb",
      "provenance": [],
      "history_visible": true,
      "authorship_tag": "ABX9TyO7jd2EyH6OgNXDAFLk20qH",
      "include_colab_link": true
    },
    "kernelspec": {
      "name": "python3",
      "display_name": "Python 3"
    },
    "language_info": {
      "name": "python"
    }
  },
  "cells": [
    {
      "cell_type": "markdown",
      "metadata": {
        "id": "view-in-github",
        "colab_type": "text"
      },
      "source": [
        "<a href=\"https://colab.research.google.com/github/yudaiyamashita/Google_earth_engine/blob/main/Untitled14.ipynb\" target=\"_parent\"><img src=\"https://colab.research.google.com/assets/colab-badge.svg\" alt=\"Open In Colab\"/></a>"
      ]
    },
    {
      "cell_type": "code",
      "metadata": {
        "colab": {
          "base_uri": "https://localhost:8080/"
        },
        "id": "nakJlh9cwoQn",
        "outputId": "18d66604-3455-4d59-e52f-fbdf10c3f98c"
      },
      "source": [
        "# Earth Engine Python APIのインポート\n",
        "import ee\n",
        "# GEEの認証・初期化\n",
        "ee.Authenticate()\n",
        "ee.Initialize()"
      ],
      "execution_count": 2,
      "outputs": [
        {
          "output_type": "stream",
          "text": [
            "To authorize access needed by Earth Engine, open the following URL in a web browser and follow the instructions. If the web browser does not start automatically, please manually browse the URL below.\n",
            "\n",
            "    https://accounts.google.com/o/oauth2/auth?client_id=517222506229-vsmmajv00ul0bs7p89v5m89qs8eb9359.apps.googleusercontent.com&scope=https%3A%2F%2Fwww.googleapis.com%2Fauth%2Fearthengine+https%3A%2F%2Fwww.googleapis.com%2Fauth%2Fdevstorage.full_control&redirect_uri=urn%3Aietf%3Awg%3Aoauth%3A2.0%3Aoob&response_type=code&code_challenge=tLN4TyOjOY63Ptz49XPklRpuEXfNCCeVEKPs7Q3MsvU&code_challenge_method=S256\n",
            "\n",
            "The authorization workflow will generate a code, which you should paste in the box below. \n",
            "Enter verification code: 4/1AX4XfWhLABNrTMssmTH_oKWdLbEwnQCyHuaUWzTpki2L4dPBfcfmWXg4BKU\n",
            "\n",
            "Successfully saved authorization token.\n"
          ],
          "name": "stdout"
        }
      ]
    },
    {
      "cell_type": "code",
      "metadata": {
        "id": "n-kDrANwwrHn"
      },
      "source": [
        "# 衛星名を指定\n",
        "satellite = 'NOAA/DMSP-OLS/NIGHTTIME_LIGHTS'\n",
        "# バンド名を指定\n",
        "band = 'avg_vis'\n",
        "# 期間を指定\n",
        "from_date='2010-01-01'\n",
        "to_date='2012-12-31'\n",
        "## エリアを指定(日本エリアを緯度・経度を指定)\n",
        "geometry = ee.Geometry.Rectangle([128.60, 29.97, 148.43, 46.12])\n",
        "\n",
        "# 指定した条件でGEEからデータをロード\n",
        "dataset = ee.ImageCollection(satellite).filter(\n",
        "    ee.Filter.date(from_date, to_date)).filter(\n",
        "    ee.Filter.geometry(geometry)).select(band)"
      ],
      "execution_count": 3,
      "outputs": []
    },
    {
      "cell_type": "code",
      "metadata": {
        "id": "S0I_HpCKykAl"
      },
      "source": [
        "## リスト形式へ変換\n",
        "data_list = dataset.toList(dataset.size().getInfo())\n",
        "# 0番目の画像（2010年の画像）を取得\n",
        "image = ee.Image(data_list.get(0))\n",
        "\n",
        "# Gdriveへ保存\n",
        "task = ee.batch.Export.image.toDrive(**{\n",
        "    'image': image,# 対象データの指定\n",
        "    'description': 'sample_dataloading_NTL',# ファイル名の指定\n",
        "    'folder':'GEE_download',# Google Drive(MyDrive)のフォルダ名\n",
        "    'scale': 1000,# 解像度の指定\n",
        "    'region': geometry.getInfo()['coordinates']# 上記で指定した対象エリア\n",
        "})\n",
        "\n",
        "# 処理の実行\n",
        "task.start()"
      ],
      "execution_count": 4,
      "outputs": []
    },
    {
      "cell_type": "code",
      "metadata": {
        "colab": {
          "base_uri": "https://localhost:8080/"
        },
        "id": "N_yB5NYozKWT",
        "outputId": "6fad24c8-11e6-4eac-d218-c540f144a7e3"
      },
      "source": [
        "task.active()"
      ],
      "execution_count": 12,
      "outputs": [
        {
          "output_type": "execute_result",
          "data": {
            "text/plain": [
              "False"
            ]
          },
          "metadata": {},
          "execution_count": 12
        }
      ]
    },
    {
      "cell_type": "code",
      "metadata": {
        "colab": {
          "base_uri": "https://localhost:8080/",
          "height": 864
        },
        "id": "odBE1wJ9yu56",
        "outputId": "40333699-8818-49c2-f1a0-014f49e9d4a7"
      },
      "source": [
        "# パッケージのインストール&インポート\n",
        "!pip install rasterio\n",
        "import numpy as np\n",
        "import matplotlib.pyplot as plt\n",
        "import rasterio\n",
        "\n",
        "# データの読み込み\n",
        "with rasterio.open('/content/drive/My Drive/GEE_download/sample_dataloading_NTL.tif') as src:\n",
        "    arr = src.read()\n",
        "\n",
        "#  numpy形式でデータを取得 -> (1, 1847, 2208)の配列で取得\n",
        "print(arr.shape)\n",
        "\n",
        "# 可視化\n",
        "plt.imshow(arr[0])"
      ],
      "execution_count": 13,
      "outputs": [
        {
          "output_type": "stream",
          "text": [
            "Requirement already satisfied: rasterio in /usr/local/lib/python3.7/dist-packages (1.2.6)\n",
            "Requirement already satisfied: certifi in /usr/local/lib/python3.7/dist-packages (from rasterio) (2021.5.30)\n",
            "Requirement already satisfied: setuptools in /usr/local/lib/python3.7/dist-packages (from rasterio) (57.4.0)\n",
            "Requirement already satisfied: click>=4.0 in /usr/local/lib/python3.7/dist-packages (from rasterio) (7.1.2)\n",
            "Requirement already satisfied: numpy in /usr/local/lib/python3.7/dist-packages (from rasterio) (1.19.5)\n",
            "Requirement already satisfied: cligj>=0.5 in /usr/local/lib/python3.7/dist-packages (from rasterio) (0.7.2)\n",
            "Requirement already satisfied: attrs in /usr/local/lib/python3.7/dist-packages (from rasterio) (21.2.0)\n",
            "Requirement already satisfied: click-plugins in /usr/local/lib/python3.7/dist-packages (from rasterio) (1.1.1)\n",
            "Requirement already satisfied: snuggs>=1.4.1 in /usr/local/lib/python3.7/dist-packages (from rasterio) (1.4.7)\n",
            "Requirement already satisfied: affine in /usr/local/lib/python3.7/dist-packages (from rasterio) (2.3.0)\n",
            "Requirement already satisfied: pyparsing>=2.1.6 in /usr/local/lib/python3.7/dist-packages (from snuggs>=1.4.1->rasterio) (2.4.7)\n"
          ],
          "name": "stdout"
        },
        {
          "output_type": "error",
          "ename": "RasterioIOError",
          "evalue": "ignored",
          "traceback": [
            "\u001b[0;31m---------------------------------------------------------------------------\u001b[0m",
            "\u001b[0;31mCPLE_OpenFailedError\u001b[0m                      Traceback (most recent call last)",
            "\u001b[0;32mrasterio/_base.pyx\u001b[0m in \u001b[0;36mrasterio._base.DatasetBase.__init__\u001b[0;34m()\u001b[0m\n",
            "\u001b[0;32mrasterio/_shim.pyx\u001b[0m in \u001b[0;36mrasterio._shim.open_dataset\u001b[0;34m()\u001b[0m\n",
            "\u001b[0;32mrasterio/_err.pyx\u001b[0m in \u001b[0;36mrasterio._err.exc_wrap_pointer\u001b[0;34m()\u001b[0m\n",
            "\u001b[0;31mCPLE_OpenFailedError\u001b[0m: /content/drive/My Drive/GEE_download/sample_dataloading_NTL.tif: No such file or directory",
            "\nDuring handling of the above exception, another exception occurred:\n",
            "\u001b[0;31mRasterioIOError\u001b[0m                           Traceback (most recent call last)",
            "\u001b[0;32m<ipython-input-13-239c3a5eb0e5>\u001b[0m in \u001b[0;36m<module>\u001b[0;34m()\u001b[0m\n\u001b[1;32m      6\u001b[0m \u001b[0;34m\u001b[0m\u001b[0m\n\u001b[1;32m      7\u001b[0m \u001b[0;31m# データの読み込み\u001b[0m\u001b[0;34m\u001b[0m\u001b[0;34m\u001b[0m\u001b[0;34m\u001b[0m\u001b[0m\n\u001b[0;32m----> 8\u001b[0;31m \u001b[0;32mwith\u001b[0m \u001b[0mrasterio\u001b[0m\u001b[0;34m.\u001b[0m\u001b[0mopen\u001b[0m\u001b[0;34m(\u001b[0m\u001b[0;34m'/content/drive/My Drive/GEE_download/sample_dataloading_NTL.tif'\u001b[0m\u001b[0;34m)\u001b[0m \u001b[0;32mas\u001b[0m \u001b[0msrc\u001b[0m\u001b[0;34m:\u001b[0m\u001b[0;34m\u001b[0m\u001b[0;34m\u001b[0m\u001b[0m\n\u001b[0m\u001b[1;32m      9\u001b[0m     \u001b[0marr\u001b[0m \u001b[0;34m=\u001b[0m \u001b[0msrc\u001b[0m\u001b[0;34m.\u001b[0m\u001b[0mread\u001b[0m\u001b[0;34m(\u001b[0m\u001b[0;34m)\u001b[0m\u001b[0;34m\u001b[0m\u001b[0;34m\u001b[0m\u001b[0m\n\u001b[1;32m     10\u001b[0m \u001b[0;34m\u001b[0m\u001b[0m\n",
            "\u001b[0;32m/usr/local/lib/python3.7/dist-packages/rasterio/env.py\u001b[0m in \u001b[0;36mwrapper\u001b[0;34m(*args, **kwds)\u001b[0m\n\u001b[1;32m    433\u001b[0m \u001b[0;34m\u001b[0m\u001b[0m\n\u001b[1;32m    434\u001b[0m         \u001b[0;32mwith\u001b[0m \u001b[0menv_ctor\u001b[0m\u001b[0;34m(\u001b[0m\u001b[0msession\u001b[0m\u001b[0;34m=\u001b[0m\u001b[0msession\u001b[0m\u001b[0;34m)\u001b[0m\u001b[0;34m:\u001b[0m\u001b[0;34m\u001b[0m\u001b[0;34m\u001b[0m\u001b[0m\n\u001b[0;32m--> 435\u001b[0;31m             \u001b[0;32mreturn\u001b[0m \u001b[0mf\u001b[0m\u001b[0;34m(\u001b[0m\u001b[0;34m*\u001b[0m\u001b[0margs\u001b[0m\u001b[0;34m,\u001b[0m \u001b[0;34m**\u001b[0m\u001b[0mkwds\u001b[0m\u001b[0;34m)\u001b[0m\u001b[0;34m\u001b[0m\u001b[0;34m\u001b[0m\u001b[0m\n\u001b[0m\u001b[1;32m    436\u001b[0m \u001b[0;34m\u001b[0m\u001b[0m\n\u001b[1;32m    437\u001b[0m     \u001b[0;32mreturn\u001b[0m \u001b[0mwrapper\u001b[0m\u001b[0;34m\u001b[0m\u001b[0;34m\u001b[0m\u001b[0m\n",
            "\u001b[0;32m/usr/local/lib/python3.7/dist-packages/rasterio/__init__.py\u001b[0m in \u001b[0;36mopen\u001b[0;34m(fp, mode, driver, width, height, count, crs, transform, dtype, nodata, sharing, **kwargs)\u001b[0m\n\u001b[1;32m    218\u001b[0m         \u001b[0;31m# None.\u001b[0m\u001b[0;34m\u001b[0m\u001b[0;34m\u001b[0m\u001b[0;34m\u001b[0m\u001b[0m\n\u001b[1;32m    219\u001b[0m         \u001b[0;32mif\u001b[0m \u001b[0mmode\u001b[0m \u001b[0;34m==\u001b[0m \u001b[0;34m'r'\u001b[0m\u001b[0;34m:\u001b[0m\u001b[0;34m\u001b[0m\u001b[0;34m\u001b[0m\u001b[0m\n\u001b[0;32m--> 220\u001b[0;31m             \u001b[0ms\u001b[0m \u001b[0;34m=\u001b[0m \u001b[0mDatasetReader\u001b[0m\u001b[0;34m(\u001b[0m\u001b[0mpath\u001b[0m\u001b[0;34m,\u001b[0m \u001b[0mdriver\u001b[0m\u001b[0;34m=\u001b[0m\u001b[0mdriver\u001b[0m\u001b[0;34m,\u001b[0m \u001b[0msharing\u001b[0m\u001b[0;34m=\u001b[0m\u001b[0msharing\u001b[0m\u001b[0;34m,\u001b[0m \u001b[0;34m**\u001b[0m\u001b[0mkwargs\u001b[0m\u001b[0;34m)\u001b[0m\u001b[0;34m\u001b[0m\u001b[0;34m\u001b[0m\u001b[0m\n\u001b[0m\u001b[1;32m    221\u001b[0m         \u001b[0;32melif\u001b[0m \u001b[0mmode\u001b[0m \u001b[0;34m==\u001b[0m \u001b[0;34m\"r+\"\u001b[0m\u001b[0;34m:\u001b[0m\u001b[0;34m\u001b[0m\u001b[0;34m\u001b[0m\u001b[0m\n\u001b[1;32m    222\u001b[0m             s = get_writer_for_path(path, driver=driver)(\n",
            "\u001b[0;32mrasterio/_base.pyx\u001b[0m in \u001b[0;36mrasterio._base.DatasetBase.__init__\u001b[0;34m()\u001b[0m\n",
            "\u001b[0;31mRasterioIOError\u001b[0m: /content/drive/My Drive/GEE_download/sample_dataloading_NTL.tif: No such file or directory"
          ]
        }
      ]
    },
    {
      "cell_type": "code",
      "metadata": {
        "id": "7NGs5sCyMbBw"
      },
      "source": [
        "\n",
        "# Earth Engine Python APIのインポート\n",
        "import ee\n",
        "\n",
        "# GEEの認証・初期化\n",
        "ee.Authenticate()\n",
        "ee.Initialize()\n",
        "\n",
        "# GEEのデータロード\n",
        "def load_data(snippet, from_date, to_date, geometry, band):\n",
        "    # パラメータの条件にしたがってデータを抽出\n",
        "    dataset = ee.ImageCollection(snippet).filter(\n",
        "    ee.Filter.date(from_date, to_date)).filter(\n",
        "    ee.Filter.geometry(geometry)).select(band)\n",
        "    # リスト型へ変換\n",
        "    data_list = dataset.toList(dataset.size().getInfo())\n",
        "    # 対象データ数とデータリストを出力\n",
        "    return dataset.size().getInfo(), data_list\n",
        "\n",
        "# 衛星画像をGoogle Driveへ保存\n",
        "def save_on_gdrive(image, geometry, dir_name, file_name, scale):\n",
        "    task = ee.batch.Export.image.toDrive(**{\n",
        "        'image': image,# ロードする衛星情報\n",
        "        'description': file_name,# 保存するファイル名\n",
        "        'folder':dir_name,# 保存先のフォルダ名\n",
        "        'scale': scale,# 解像度\n",
        "        'region': geometry.getInfo()['coordinates'],# 対象エリア\n",
        "        'crs': 'EPSG:4326'\n",
        "    })\n",
        "    # Run exporting\n",
        "    task.start()\n",
        "    print('Done.')\n",
        "\n",
        "## パラメーターの指定\n",
        "# 衛星を指定\n",
        "snippet = 'NOAA/DMSP-OLS/NIGHTTIME_LIGHTS'\n",
        "# バンド名を指定\n",
        "band = 'avg_vis'\n",
        "# 期間を指定\n",
        "from_date='2010-01-01'\n",
        "to_date='2012-12-31'\n",
        "# エリアを指定(日本エリアを緯度・経度を指定)\n",
        "geometry = ee.Geometry.Rectangle([128.60, 29.97, 148.43, 46.12])\n",
        "# 保存するフォルダ名\n",
        "dir_name = 'GEE_download'\n",
        "# ファイル名\n",
        "file_name = 'file_name'\n",
        "# 解像度\n",
        "scale = 1000\n",
        "\n",
        "## 処理の実行 ----------------------------------------------\n",
        "num_data, data_list = load_data(snippet=snippet, from_date=from_date, to_date=to_date, geometry=geometry, band=band)\n",
        "print('#Datasets; ', num_data)\n",
        "\n",
        "## 全件保存（ファイル名は衛星IDを利用）\n",
        "for i in range(data_list.size().getInfo()):\n",
        "    image = ee.Image(data_list.get(i))\n",
        "    save_on_gdrive(image, geometry, dir_name, image.getInfo()['id'].replace('/', '_'), scale)"
      ],
      "execution_count": null,
      "outputs": []
    }
  ]
}